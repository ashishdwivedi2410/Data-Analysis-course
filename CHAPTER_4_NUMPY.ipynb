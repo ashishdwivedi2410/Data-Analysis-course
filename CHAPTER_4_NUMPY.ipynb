{
  "nbformat": 4,
  "nbformat_minor": 0,
  "metadata": {
    "colab": {
      "provenance": [],
      "authorship_tag": "ABX9TyPzbC2hh94ta7UlF7paBuyi",
      "include_colab_link": true
    },
    "kernelspec": {
      "name": "python3",
      "display_name": "Python 3"
    },
    "language_info": {
      "name": "python"
    }
  },
  "cells": [
    {
      "cell_type": "markdown",
      "metadata": {
        "id": "view-in-github",
        "colab_type": "text"
      },
      "source": [
        "<a href=\"https://colab.research.google.com/github/ashishdwivedi2410/Data-Analysis-course/blob/main/CHAPTER_4_NUMPY.ipynb\" target=\"_parent\"><img src=\"https://colab.research.google.com/assets/colab-badge.svg\" alt=\"Open In Colab\"/></a>"
      ]
    },
    {
      "cell_type": "code",
      "execution_count": 12,
      "metadata": {
        "colab": {
          "base_uri": "https://localhost:8080/"
        },
        "id": "rtG4jyJvIaIF",
        "outputId": "b89e0fcb-cb15-4c83-f0c5-f895ebe72b9d"
      },
      "outputs": [
        {
          "output_type": "stream",
          "name": "stdout",
          "text": [
            "Requirement already satisfied: numpy in /usr/local/lib/python3.12/dist-packages (2.0.2)\n"
          ]
        }
      ],
      "source": [
        "pip install numpy"
      ]
    },
    {
      "cell_type": "code",
      "source": [
        "import numpy as np\n",
        "\n",
        "## Create array using numpy\n",
        "## Create a 1d array\n",
        "\n",
        "arr1 = np.array([1,2,3,4,5])\n",
        "print(arr1)\n",
        "print(type(arr1))\n",
        "print(arr1.shape)"
      ],
      "metadata": {
        "colab": {
          "base_uri": "https://localhost:8080/"
        },
        "id": "K6WyCv31YXMY",
        "outputId": "2d062bf5-5d1b-4cde-9269-001e880a3b28"
      },
      "execution_count": 13,
      "outputs": [
        {
          "output_type": "stream",
          "name": "stdout",
          "text": [
            "[1 2 3 4 5]\n",
            "<class 'numpy.ndarray'>\n",
            "(5,)\n"
          ]
        }
      ]
    },
    {
      "cell_type": "code",
      "source": [
        "#reshape\n",
        "arr11=np.array([1,2,3,4,5])\n",
        "arr11.reshape(1,5)"
      ],
      "metadata": {
        "colab": {
          "base_uri": "https://localhost:8080/"
        },
        "id": "wvXU29XlgyfF",
        "outputId": "1012b4bd-c75e-4c87-a771-061278dc4cff"
      },
      "execution_count": 17,
      "outputs": [
        {
          "output_type": "execute_result",
          "data": {
            "text/plain": [
              "array([[1, 2, 3, 4, 5]])"
            ]
          },
          "metadata": {},
          "execution_count": 17
        }
      ]
    },
    {
      "cell_type": "code",
      "source": [
        "## Create a 2d array\n",
        "arr2= np.array([[1,2,3,4],[5,6,7,8]])\n",
        "print(arr2)\n",
        "print(type(arr2))\n",
        "print(arr2.shape)"
      ],
      "metadata": {
        "colab": {
          "base_uri": "https://localhost:8080/"
        },
        "id": "PLywbBEhgjTJ",
        "outputId": "eb2ceb19-8977-41ac-d325-ca12a8b27571"
      },
      "execution_count": 14,
      "outputs": [
        {
          "output_type": "stream",
          "name": "stdout",
          "text": [
            "[[1 2 3 4]\n",
            " [5 6 7 8]]\n",
            "<class 'numpy.ndarray'>\n",
            "(2, 4)\n"
          ]
        }
      ]
    },
    {
      "cell_type": "code",
      "source": [
        "#reshape\n",
        "arr3= np.array([[1,2,3,4],[5,6,7,8]])\n",
        "print(arr3)\n",
        "print(arr3.shape)"
      ],
      "metadata": {
        "colab": {
          "base_uri": "https://localhost:8080/"
        },
        "id": "UsnYkdC9hp7B",
        "outputId": "50b50fe4-30cf-4865-8f59-de94a7be8c4c"
      },
      "execution_count": 16,
      "outputs": [
        {
          "output_type": "stream",
          "name": "stdout",
          "text": [
            "[[1 2 3 4]\n",
            " [5 6 7 8]]\n",
            "(2, 4)\n"
          ]
        }
      ]
    },
    {
      "cell_type": "code",
      "source": [
        "# identity matrix\n",
        "np.eye(3)"
      ],
      "metadata": {
        "colab": {
          "base_uri": "https://localhost:8080/"
        },
        "id": "fkPkAhSBnEJK",
        "outputId": "5c46e8e7-c8ee-460f-865d-92be6d03fb3f"
      },
      "execution_count": 26,
      "outputs": [
        {
          "output_type": "execute_result",
          "data": {
            "text/plain": [
              "array([[1., 0., 0.],\n",
              "       [0., 1., 0.],\n",
              "       [0., 0., 1.]])"
            ]
          },
          "metadata": {},
          "execution_count": 26
        }
      ]
    },
    {
      "cell_type": "code",
      "source": [
        "#attributes of numpy\n",
        "arr = np.array([[1,2,3,4],[5,6,7,8]])\n",
        "print(\"Array:\",arr)\n",
        "print(\"Shape:\",arr.shape)\n",
        "print(\"Numbers of Dimension:\",arr.ndim)\n",
        "print(\"Numbers of Dimension:\",arr.size)\n",
        "print(\"Data type:\\n\",arr.dtype)\n",
        "print(\"Item Size\",arr.itemsize)"
      ],
      "metadata": {
        "colab": {
          "base_uri": "https://localhost:8080/"
        },
        "id": "ZirsZ2yMnUgX",
        "outputId": "70a5c7e1-ad58-4821-cf81-7cb6d62fd5dd"
      },
      "execution_count": 33,
      "outputs": [
        {
          "output_type": "stream",
          "name": "stdout",
          "text": [
            "Array: [[1 2 3 4]\n",
            " [5 6 7 8]]\n",
            "Shape: (2, 4)\n",
            "Numbers of Dimension: 2\n",
            "Numbers of Dimension: 8\n",
            "Data type:\n",
            " int64\n",
            "Item Size 8\n"
          ]
        }
      ]
    },
    {
      "cell_type": "code",
      "source": [
        "# Numpy vectorized Opertion\n",
        "arr1 = np.array([1,2,3,4,5])\n",
        "arr2 = np.array([6,7,8,9,10])\n",
        "\n",
        "# Element Wise Addition\n",
        "print(arr1+arr2)\n",
        "\n",
        "# Element Wise Substract\n",
        "print(arr1-arr2)\n",
        "\n",
        "# Element Wise Multiplcation\n",
        "print(arr1*arr2)\n",
        "\n",
        "# Element Wise Division\n",
        "print(arr1/arr2)\n"
      ],
      "metadata": {
        "colab": {
          "base_uri": "https://localhost:8080/"
        },
        "id": "zunsgiAfpDMF",
        "outputId": "69d70f45-f3e2-48ca-a646-c7cea481d8a4"
      },
      "execution_count": 34,
      "outputs": [
        {
          "output_type": "stream",
          "name": "stdout",
          "text": [
            "[ 7  9 11 13 15]\n",
            "[-5 -5 -5 -5 -5]\n",
            "[ 6 14 24 36 50]\n",
            "[0.16666667 0.28571429 0.375      0.44444444 0.5       ]\n"
          ]
        }
      ]
    },
    {
      "cell_type": "code",
      "source": [
        "# Universal Function\n",
        "arr=np.array([1,2,3,4,5])\n",
        "\n",
        "#sqare root\n",
        "print(np.sqrt(arr))\n",
        "\n",
        "#exponential\n",
        "print(np.exp(arr))\n",
        "\n",
        "#sin\n",
        "print(np.sin(arr))\n",
        "\n",
        "#cos\n",
        "print(np.cos(arr))\n",
        "#log\n",
        "print(np.log(arr))"
      ],
      "metadata": {
        "colab": {
          "base_uri": "https://localhost:8080/"
        },
        "id": "42Qo2prYpZ5c",
        "outputId": "0c90f816-3368-4cdc-a4b1-09635236ade5"
      },
      "execution_count": 36,
      "outputs": [
        {
          "output_type": "stream",
          "name": "stdout",
          "text": [
            "[1.         1.41421356 1.73205081 2.         2.23606798]\n",
            "[  2.71828183   7.3890561   20.08553692  54.59815003 148.4131591 ]\n",
            "[ 0.84147098  0.90929743  0.14112001 -0.7568025  -0.95892427]\n",
            "[ 0.54030231 -0.41614684 -0.9899925  -0.65364362  0.28366219]\n",
            "[0.         0.69314718 1.09861229 1.38629436 1.60943791]\n"
          ]
        }
      ]
    },
    {
      "cell_type": "code",
      "source": [
        "#array slicing and Indexing\n",
        "\n",
        "arr = np.array([[1,2,3,4],[5,6,7,8],[9,10,11,12]])\n",
        "print(arr)"
      ],
      "metadata": {
        "colab": {
          "base_uri": "https://localhost:8080/"
        },
        "id": "dWpmMuAYpaEa",
        "outputId": "49d98cb9-20c0-4dbf-fdda-987f0db7263b"
      },
      "execution_count": 38,
      "outputs": [
        {
          "output_type": "stream",
          "name": "stdout",
          "text": [
            "[[ 1  2  3  4]\n",
            " [ 5  6  7  8]\n",
            " [ 9 10 11 12]]\n"
          ]
        }
      ]
    },
    {
      "cell_type": "code",
      "source": [],
      "metadata": {
        "id": "pf4zCkDBpaGl"
      },
      "execution_count": null,
      "outputs": []
    },
    {
      "cell_type": "code",
      "source": [],
      "metadata": {
        "id": "72OsjS5IpaJL"
      },
      "execution_count": null,
      "outputs": []
    },
    {
      "cell_type": "code",
      "source": [],
      "metadata": {
        "id": "lJ-cDF83paLs"
      },
      "execution_count": null,
      "outputs": []
    },
    {
      "cell_type": "code",
      "source": [],
      "metadata": {
        "id": "U4HXa4RupaPI"
      },
      "execution_count": null,
      "outputs": []
    },
    {
      "cell_type": "code",
      "source": [],
      "metadata": {
        "id": "BMmPUZ4ipaWF"
      },
      "execution_count": null,
      "outputs": []
    },
    {
      "cell_type": "code",
      "source": [],
      "metadata": {
        "id": "vdnsTw0OpaZY"
      },
      "execution_count": null,
      "outputs": []
    },
    {
      "cell_type": "code",
      "source": [],
      "metadata": {
        "id": "phzt6Wdjpac1"
      },
      "execution_count": null,
      "outputs": []
    },
    {
      "cell_type": "code",
      "source": [],
      "metadata": {
        "id": "QQijmg98pafb"
      },
      "execution_count": null,
      "outputs": []
    },
    {
      "cell_type": "code",
      "source": [],
      "metadata": {
        "id": "7Nuu5fJ3paiH"
      },
      "execution_count": null,
      "outputs": []
    },
    {
      "cell_type": "code",
      "source": [],
      "metadata": {
        "id": "DLpBbJzNpak9"
      },
      "execution_count": null,
      "outputs": []
    },
    {
      "cell_type": "code",
      "source": [],
      "metadata": {
        "id": "z5V_dKoypant"
      },
      "execution_count": null,
      "outputs": []
    },
    {
      "cell_type": "code",
      "source": [],
      "metadata": {
        "id": "3hOgkvatpaqS"
      },
      "execution_count": null,
      "outputs": []
    },
    {
      "cell_type": "code",
      "source": [],
      "metadata": {
        "id": "UmJv8hX3patx"
      },
      "execution_count": null,
      "outputs": []
    }
  ]
}